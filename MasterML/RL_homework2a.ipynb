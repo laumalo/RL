{
  "nbformat": 4,
  "nbformat_minor": 0,
  "metadata": {
    "colab": {
      "name": "RL_homework2a.ipynb",
      "version": "0.3.2",
      "provenance": [],
      "collapsed_sections": []
    },
    "kernelspec": {
      "name": "python3",
      "display_name": "Python 3"
    },
    "accelerator": "TPU"
  },
  "cells": [
    {
      "metadata": {
        "id": "urrBFXZKuFIG",
        "colab_type": "text"
      },
      "cell_type": "markdown",
      "source": [
        "# **BLOC 3: Second Assigment (Frozen Lake) **\n",
        "\n",
        "**a)** Create an agent that is able to win in the Frozen Lake game, but with the optimal path. This means, the path with the smaller number of steps. Compare the results when training the Q-table and the Q-network. Explain why one is better than the other.\n"
      ]
    },
    {
      "metadata": {
        "id": "VJmNbM2CM5Nw",
        "colab_type": "text"
      },
      "cell_type": "markdown",
      "source": [
        "# Introduction:\n",
        "\n",
        "Now, we will consider the Frozen Lake game, in the lectures of Machine Learning we have studied a code that solves the game, but know we will try to improve that code by solving the game using the optimal path, which means the path with less steps. \n",
        "\n",
        "The main idea for implementing that will be to introduce a negative reward each time the agent makes a step so to get the maximum reward the smaller number of steps should be done since if not the reward will decrease. Also, to avoid that the agent preferes to fall insted of reaching the goal destination for avoiding having the negative reward, we will input an extra reward of +10 if it reaches the goal. \n",
        "\n",
        "The code will be structered as it follow, the first part will correspond to the design of the game and where the holes are (this code is the same that it was done in class), then Case 1 where the game will be solved using a Q-table and Case-2 where the game will be solve using a Q-network. "
      ]
    },
    {
      "metadata": {
        "id": "yT6OCLRzMXy6",
        "colab_type": "text"
      },
      "cell_type": "markdown",
      "source": [
        "**Design of the game:**"
      ]
    },
    {
      "metadata": {
        "id": "e_aFw8adw8tO",
        "colab_type": "code",
        "outputId": "4b0de492-fee7-45fc-e554-d0a6fb68766f",
        "colab": {
          "base_uri": "https://localhost:8080/",
          "height": 480
        }
      },
      "cell_type": "code",
      "source": [
        "!pip install gym\n",
        "import gym"
      ],
      "execution_count": 0,
      "outputs": [
        {
          "output_type": "stream",
          "text": [
            "Collecting gym\n",
            "\u001b[?25l  Downloading https://files.pythonhosted.org/packages/d4/22/4ff09745ade385ffe707fb5f053548f0f6a6e7d5e98a2b9d6c07f5b931a7/gym-0.10.9.tar.gz (1.5MB)\n",
            "\u001b[K    100% |████████████████████████████████| 1.5MB 14.2MB/s \n",
            "\u001b[?25hRequirement already satisfied: scipy in /usr/local/lib/python3.6/dist-packages (from gym) (1.1.0)\n",
            "Requirement already satisfied: numpy>=1.10.4 in /usr/local/lib/python3.6/dist-packages (from gym) (1.14.6)\n",
            "Requirement already satisfied: requests>=2.0 in /usr/local/lib/python3.6/dist-packages (from gym) (2.18.4)\n",
            "Requirement already satisfied: six in /usr/local/lib/python3.6/dist-packages (from gym) (1.11.0)\n",
            "Collecting pyglet>=1.2.0 (from gym)\n",
            "\u001b[?25l  Downloading https://files.pythonhosted.org/packages/1c/fc/dad5eaaab68f0c21e2f906a94ddb98175662cc5a654eee404d59554ce0fa/pyglet-1.3.2-py2.py3-none-any.whl (1.0MB)\n",
            "\u001b[K    100% |████████████████████████████████| 1.0MB 19.6MB/s \n",
            "\u001b[?25hRequirement already satisfied: idna<2.7,>=2.5 in /usr/local/lib/python3.6/dist-packages (from requests>=2.0->gym) (2.6)\n",
            "Requirement already satisfied: chardet<3.1.0,>=3.0.2 in /usr/local/lib/python3.6/dist-packages (from requests>=2.0->gym) (3.0.4)\n",
            "Requirement already satisfied: certifi>=2017.4.17 in /usr/local/lib/python3.6/dist-packages (from requests>=2.0->gym) (2018.10.15)\n",
            "Requirement already satisfied: urllib3<1.23,>=1.21.1 in /usr/local/lib/python3.6/dist-packages (from requests>=2.0->gym) (1.22)\n",
            "Requirement already satisfied: future in /usr/local/lib/python3.6/dist-packages (from pyglet>=1.2.0->gym) (0.16.0)\n",
            "Building wheels for collected packages: gym\n",
            "  Running setup.py bdist_wheel for gym ... \u001b[?25l-\b \b\\\b \b|\b \b/\b \b-\b \bdone\n",
            "\u001b[?25h  Stored in directory: /root/.cache/pip/wheels/6c/3a/0e/b86dee98876bb56cdb482cc1f72201035e46d1baf69d10d028\n",
            "Successfully built gym\n",
            "Installing collected packages: pyglet, gym\n",
            "Successfully installed gym-0.10.9 pyglet-1.3.2\n"
          ],
          "name": "stdout"
        }
      ]
    },
    {
      "metadata": {
        "id": "INo_sVb8xBci",
        "colab_type": "code",
        "outputId": "e4fcaa83-60a0-413b-f325-793e706b74ed",
        "colab": {
          "base_uri": "https://localhost:8080/",
          "height": 176
        }
      },
      "cell_type": "code",
      "source": [
        "env = gym.make('FrozenLake-v0')\n",
        "env.render()"
      ],
      "execution_count": 0,
      "outputs": [
        {
          "output_type": "stream",
          "text": [
            "\n",
            "\u001b[41mS\u001b[0mFFF\n",
            "FHFH\n",
            "FFFH\n",
            "HFFG\n"
          ],
          "name": "stdout"
        },
        {
          "output_type": "stream",
          "text": [
            "/usr/local/lib/python3.6/dist-packages/gym/envs/registration.py:14: PkgResourcesDeprecationWarning: Parameters to load are deprecated.  Call .resolve and .require separately.\n",
            "  result = entry_point.load(False)\n"
          ],
          "name": "stderr"
        }
      ]
    },
    {
      "metadata": {
        "id": "qZi-kSYWuHUy",
        "colab_type": "code",
        "colab": {}
      },
      "cell_type": "code",
      "source": [
        "import numpy as np\n",
        "from matplotlib import pyplot as plt\n",
        "import matplotlib.cm as cm\n",
        "from tqdm import tqdm\n",
        "%matplotlib inline\n",
        "\n",
        "font = {'family': 'serif',\n",
        "        'color':  'darkred',\n",
        "        'weight': 'normal',\n",
        "        'size': 21,\n",
        "        }\n",
        "\n",
        "# This function will help us to get nice plots\n",
        "def plot_matrix(one_hot):\n",
        "  ''' Reshapes one_hot vector to 4x4 matrix and plots results'''\n",
        "  matt = np.zeros([4,4])\n",
        "  for x in range(4):\n",
        "    for y in range(4):      \n",
        "      matt[x,y] = one_hot[x+4*y]\n",
        "   \n",
        "  plt.xticks([0.5,1.5,2.5,3.5], ('0','1','2','3'))\n",
        "  plt.yticks([0.5,1.5,2.5,3.5], ('0','1','2','3'))\n",
        "  \n",
        "  plt.text(3, 3, \"G\", size=20, rotation=0,\n",
        "         ha=\"center\", va=\"center\",\n",
        "         bbox=dict(boxstyle=\"square\",\n",
        "                   ec=(1.,0, 0),\n",
        "                   fc=(0, 0.82, 1),\n",
        "                   )\n",
        "         )\n",
        "  plt.text(0, 0, \"S\", size=20, rotation=0,\n",
        "         ha=\"center\", va=\"center\",\n",
        "         bbox=dict(boxstyle=\"square\",\n",
        "                   ec=(0.8, 0.82, 0),\n",
        "                   fc=(0.8, 0.82, 0),\n",
        "                   )\n",
        "         )  \n",
        "  plt.imshow(matt)\n",
        "  \n",
        "  return matt"
      ],
      "execution_count": 0,
      "outputs": []
    },
    {
      "metadata": {
        "id": "Zs3S1tntySfT",
        "colab_type": "code",
        "colab": {}
      },
      "cell_type": "code",
      "source": [
        "size_env = env.observation_space.n\n",
        "environment = np.zeros(size_env)\n",
        "reward = np.zeros(size_env)\n",
        "\n",
        "for i in range(200):\n",
        "  \n",
        "    # Reset environment and get first new observation\n",
        "    s = env.reset()\n",
        "    d = False\n",
        "    j = 0\n",
        "    while j < 99:\n",
        "        j+=1\n",
        "        \n",
        "        # Choose an random action\n",
        "        a = np.argmax(np.random.randn(1,env.action_space.n))\n",
        "        \n",
        "        # Make the environment do a step given the action a        \n",
        "        s1,r,d,_ = env.step(a)\n",
        "        \n",
        "        # Let's store the reward receive for each state s1\n",
        "        reward[s1] = 3*r\n",
        "        # d = Done if we fall or win, False in any other case\n",
        "        if d == False:\n",
        "          environment[s1] = 1\n",
        "              \n",
        "        s = s1\n",
        "        if d == True:\n",
        "            break"
      ],
      "execution_count": 0,
      "outputs": []
    },
    {
      "metadata": {
        "id": "qwRlkTOavcSr",
        "colab_type": "code",
        "outputId": "9a845969-c4af-4511-f0ee-f13461c09202",
        "colab": {
          "base_uri": "https://localhost:8080/",
          "height": 265
        }
      },
      "cell_type": "code",
      "source": [
        "sys_mat = plot_matrix(environment+reward)"
      ],
      "execution_count": 0,
      "outputs": [
        {
          "output_type": "display_data",
          "data": {
            "image/png": "[encoded data removed]",
            "text/plain": [
              "<matplotlib.figure.Figure at 0x7f6f241b34e0>"
            ]
          },
          "metadata": {
            "tags": []
          }
        }
      ]
    },
    {
      "metadata": {
        "id": "ON7Z5xekMuI7",
        "colab_type": "text"
      },
      "cell_type": "markdown",
      "source": [
        "Now our setup is created, and we've just seen the distrubution of holes for our game. "
      ]
    },
    {
      "metadata": {
        "id": "w-k5HxIg1_sc",
        "colab_type": "text"
      },
      "cell_type": "markdown",
      "source": [
        "## Case 1: Q-table algorithm"
      ]
    },
    {
      "metadata": {
        "id": "an4AlAyKve-6",
        "colab_type": "code",
        "colab": {}
      },
      "cell_type": "code",
      "source": [
        "def Q_table(num_episodes, alpha, gamma):\n",
        "  \n",
        "  # Initialize Q table with all zeros\n",
        "  Q = np.zeros([env.observation_space.n,env.action_space.n])\n",
        "  # We create a  two lists: first saves number of steps per episode, second one \n",
        "  # reward obtained per episode\n",
        "  jList = []\n",
        "  rList = []\n",
        "  \n",
        "  \n",
        "  for i in range(num_episodes):\n",
        "      # Reset environment and initialize all variables\n",
        "      s = env.reset()\n",
        "      r = 0\n",
        "      #we introduce an extra variable that will save the negative reward given for each extra step\n",
        "      reward= 0\n",
        "      d = False\n",
        "      j = 0\n",
        "      # The Q-Table learning algorithm\n",
        "      while j < 99:\n",
        "          j+=1\n",
        "          #Choose an action by greedily (with noise) picking from Q table. This\n",
        "          # implementation is analogous to the one used in the previous session\n",
        "          a = np.argmax(Q[s,:] + np.random.randn(1,env.action_space.n)*(1./(i+1)))\n",
        "          #Get new state and reward from environment\n",
        "          s1,r,d,_ = env.step(a)\n",
        "          #Update Q-Table with new knowledge\n",
        "          Q[s,a] = Q[s,a] + alpha*(reward + gamma*np.max(Q[s1,:]) - Q[s,a])\n",
        "          \n",
        "          \n",
        "          s = s1\n",
        "          #d is equal to True in two cases: when game is won or when it falls into a hole\n",
        "          if d == True:\n",
        "            #it arrives to the goal position\n",
        "            if s1==15:\n",
        "              #print('Win!',i)\n",
        "              reward += 10  \n",
        "            #falls in a hole  \n",
        "            else:\n",
        "              reward +=-5\n",
        "            break\n",
        "          #does an step but either of the last situations happen (negative reward)\n",
        "          else: \n",
        "              reward += -1\n",
        "      jList.append(j)\n",
        "      rList.append(reward)\n",
        "\n",
        "      \n",
        "  return Q, jList, rList"
      ],
      "execution_count": 0,
      "outputs": []
    },
    {
      "metadata": {
        "id": "pwb0_6W4_-sc",
        "colab_type": "code",
        "outputId": "50b69e81-3edd-40ac-bcc7-6618b684dbc4",
        "colab": {
          "base_uri": "https://localhost:8080/",
          "height": 34
        }
      },
      "cell_type": "code",
      "source": [
        "# Set learning and discount factor parameters\n",
        "alpha = .8\n",
        "gamma = .95\n",
        "# Runs of the algorithm and episodes of each run\n",
        "runs = 50\n",
        "num_episodes = 500\n",
        "\n",
        "steps = []\n",
        "rewards = []\n",
        "for ii in tqdm(range(runs)):\n",
        "  \n",
        "  Q, jList, rList = Q_table(num_episodes, alpha, gamma)\n",
        "  \n",
        "  steps.append(jList)\n",
        "  rewards.append(rList)"
      ],
      "execution_count": 0,
      "outputs": [
        {
          "output_type": "stream",
          "text": [
            "100%|██████████| 50/50 [00:03<00:00, 12.59it/s]\n"
          ],
          "name": "stderr"
        }
      ]
    },
    {
      "metadata": {
        "id": "a-68qzKCcWD3",
        "colab_type": "code",
        "outputId": "80ffe648-6cda-4dc6-aa83-29a8120acc81",
        "colab": {
          "base_uri": "https://localhost:8080/",
          "height": 297
        }
      },
      "cell_type": "code",
      "source": [
        "steps_t = np.sum(steps, 0)/runs\n",
        "rewards_t = np.sum(rewards, 0)/runs\n",
        "\n",
        "f, axarr = plt.subplots(2, sharex=True)\n",
        "axarr[0].plot(rewards_t)\n",
        "axarr[0].set_title('Rewards')\n",
        "axarr[1].plot(steps_t)\n",
        "axarr[1].set_title('Number of steps')"
      ],
      "execution_count": 0,
      "outputs": [
        {
          "output_type": "execute_result",
          "data": {
            "text/plain": [
              "Text(0.5,1,'Number of steps')"
            ]
          },
          "metadata": {
            "tags": []
          },
          "execution_count": 9
        },
        {
          "output_type": "display_data",
          "data": {
            "image/png": "[encoded data removed]",
            "text/plain": [
              "<matplotlib.figure.Figure at 0x7f6f20ff53c8>"
            ]
          },
          "metadata": {
            "tags": []
          }
        }
      ]
    },
    {
      "metadata": {
        "id": "7ukZakhRAqr9",
        "colab_type": "text"
      },
      "cell_type": "markdown",
      "source": [
        "If we look at the last two graphs, we can notice how during the first steps the reward is very negative, the reason for that would be that in the first attemps it would make a lot of steps of fall quickly to one hole. After some episodes, we can se how the reward increases and stays more or less constrant. On the other hand, if the look at the grahp where it shown the number of steps, we can realise that at the end the number of steps oscillates between 5 and 6 that whould correspond to the minimum number of steps, and therefor to the optimal path."
      ]
    },
    {
      "metadata": {
        "id": "UW5S33Lo0nva",
        "colab_type": "text"
      },
      "cell_type": "markdown",
      "source": [
        "## Case 2: Q-Network"
      ]
    },
    {
      "metadata": {
        "id": "aNgKM5qZH30g",
        "colab_type": "text"
      },
      "cell_type": "markdown",
      "source": [
        "In the previous example, we have used a very small system, in which the size of the Q matrix was 16x16. However, what happens when we work with much complex systems, where the number of possible states and actions is to big to be stored in a matrix? This also applys to continuous systems, where the number of states is virtually infinite. The go to solution in these cases is to use a Neural Network instead of a matrix."
      ]
    },
    {
      "metadata": {
        "id": "3aisFVhZLz0m",
        "colab_type": "text"
      },
      "cell_type": "markdown",
      "source": [
        "Let's construct a very simple NN"
      ]
    },
    {
      "metadata": {
        "id": "zPwt2TxSLyxL",
        "colab_type": "code",
        "outputId": "74ed6c12-7aef-4658-8e17-47327d141608",
        "colab": {
          "base_uri": "https://localhost:8080/",
          "height": 34
        }
      },
      "cell_type": "code",
      "source": [
        "from keras.models import Sequential\n",
        "from keras.layers import Dense\n",
        "from keras.optimizers import Adam\n",
        "\n",
        "\n",
        "class QNAgent:\n",
        "  def _Neural_Network(self):\n",
        "      # Neural Net for Deep-Q learning Model\n",
        "      model = Sequential()\n",
        "      model.add(Dense(24, input_dim=self.state_size, activation='relu'))\n",
        "      model.add(Dense(24, activation='relu'))\n",
        "      model.add(Dense(self.action_size, activation='linear'))\n",
        "      model.compile(loss='mse',\n",
        "                    optimizer=Adam(lr=self.learning_rate))\n",
        "      return model"
      ],
      "execution_count": 0,
      "outputs": [
        {
          "output_type": "stream",
          "text": [
            "Using TensorFlow backend.\n"
          ],
          "name": "stderr"
        }
      ]
    },
    {
      "metadata": {
        "id": "496kuqHASH0O",
        "colab_type": "text"
      },
      "cell_type": "markdown",
      "source": [
        "As you saw in previous classes on NN (?), it is more efficient to train on batches than with single samples. To take this into account in our RL problem, we will create an agent that is able to *remember* and *replay* over its memory to train a NN! For remembering, things are easy:"
      ]
    },
    {
      "metadata": {
        "id": "Qcwcbl3aSreS",
        "colab_type": "code",
        "colab": {}
      },
      "cell_type": "code",
      "source": [
        "class QNAgent(QNAgent):\n",
        "  def remember(self, state, action, reward, next_state, done):\n",
        "    self.memory.append((state, action, reward, next_state, done))"
      ],
      "execution_count": 0,
      "outputs": []
    },
    {
      "metadata": {
        "id": "CxXnOmMkTq9J",
        "colab_type": "text"
      },
      "cell_type": "markdown",
      "source": [
        "Replaying is the crucial part of our agent, as it is where the training of NN occurs. The NN is trained to minimize the following loss functions:\n",
        "\n",
        "$$\\mbox{loss}=(\\underbrace{r_t+\\gamma \\max_{a'}Q(s_{t+1},a_{t+1}')}_{target}-\\underbrace{Q(s_t,a_t)}_{prediction})$$"
      ]
    },
    {
      "metadata": {
        "id": "2GBFx1_XT1gn",
        "colab_type": "code",
        "colab": {}
      },
      "cell_type": "code",
      "source": [
        "class QNAgent(QNAgent):  \n",
        "  def replay(self, batch_size):\n",
        "    # We create a batch of memory\n",
        "    batch = random.sample(self.memory, batch_size)\n",
        "    # For each sample in the memory\n",
        "    for state, action, reward, next_state, done in batch:\n",
        "      \n",
        "        # Let's construct the reward:\n",
        "        # if the game has ended, we know exactly what if it ended in a good or\n",
        "        # bad way. Then the target will be exactly the reward\n",
        "        target = reward\n",
        "        # if we have not ended, we will take the reward (as we did not end, it \n",
        "        # zero) plus the argmax value of a prediction of the all possible next \n",
        "        # states. This ensure that intermediate state have an increasing value \n",
        "        # function.\n",
        "        if not done: \n",
        "            target = (reward + self.gamma *\n",
        "                      np.amax(self.model.predict(next_state)[0]))\n",
        "            \n",
        "        # Now we create a vector, by means of the model, which gives a \n",
        "        # prediction of the value of Q for each possible action given the \n",
        "        # current state.\n",
        "        target_f = self.model.predict(state)\n",
        "        # Then, we substitue the value of the action taken by the target. This \n",
        "        # effectively implements the loss function.\n",
        "        target_f[0][action] = target\n",
        "        \n",
        "        # Then, we train the model\n",
        "        self.model.fit(state, target_f, epochs=1, verbose=0)\n",
        "        \n",
        "    # Finally, we decrease the value of the greedy election    \n",
        "    if self.epsilon > self.epsilon_min:\n",
        "        self.epsilon *= self.epsilon_decay"
      ],
      "execution_count": 0,
      "outputs": []
    },
    {
      "metadata": {
        "id": "YEj3QUo0WthN",
        "colab_type": "text"
      },
      "cell_type": "markdown",
      "source": [
        "As last step, we need the agent to have the capability of acting!"
      ]
    },
    {
      "metadata": {
        "id": "a_ok8CClW1Ia",
        "colab_type": "code",
        "colab": {}
      },
      "cell_type": "code",
      "source": [
        "class QNAgent(QNAgent):\n",
        "  def act(self, state):\n",
        "    # The agent has the capability of doing a greedy action\n",
        "    if np.random.rand() <= self.epsilon:\n",
        "        return random.randrange(self.action_size)\n",
        "      \n",
        "    # Or an action taken from the model\n",
        "    act_values = self.model.predict(state)\n",
        "    return np.argmax(act_values[0])    "
      ],
      "execution_count": 0,
      "outputs": []
    },
    {
      "metadata": {
        "id": "viS6j2QVXfpq",
        "colab_type": "text"
      },
      "cell_type": "markdown",
      "source": [
        "Finally, let's set the parameters of the learning procedure."
      ]
    },
    {
      "metadata": {
        "id": "YgarN8kTNOjj",
        "colab_type": "code",
        "colab": {}
      },
      "cell_type": "code",
      "source": [
        "from collections import deque\n",
        "import random\n",
        "class QNAgent(QNAgent):\n",
        "    def __init__(self, state_size, action_size):\n",
        "        self.state_size = state_size\n",
        "        self.action_size = action_size\n",
        "        self.memory = deque(maxlen=2000)\n",
        "        self.gamma = 0.95    # discount rate\n",
        "        self.epsilon = 1.0  # exploration rate\n",
        "        self.epsilon_min = 0.01\n",
        "        self.epsilon_decay = 0.995\n",
        "        self.learning_rate = 0.001\n",
        "        self.model = self._Neural_Network()"
      ],
      "execution_count": 0,
      "outputs": []
    },
    {
      "metadata": {
        "id": "5xv7Yp1bzEYw",
        "colab_type": "text"
      },
      "cell_type": "markdown",
      "source": [
        "Let's now create the Q-network algorithm:"
      ]
    },
    {
      "metadata": {
        "id": "ecmhRDHyxQtj",
        "colab_type": "code",
        "colab": {}
      },
      "cell_type": "code",
      "source": [
        "def Q_network(env, agent, num_episodes, batch_size):\n",
        "\n",
        "  steps = []\n",
        "  rewards = []\n",
        "  states = []\n",
        "  reward_count = 0\n",
        "  done = False\n",
        "  \n",
        "  for e in tqdm(range(num_episodes)):\n",
        "    state = env.reset()\n",
        "    state = np.reshape(state, [1, state_size])\n",
        "    \n",
        "    j = 0\n",
        "    reward_count = 0 #new variable that will save the negative reward and the extra reward for winning\n",
        "    # The Q-Network learning algorithm\n",
        "    while j < 99:\n",
        "      j+=1\n",
        "\n",
        "      action = agent.act(state)\n",
        "      next_state, reward, done, _ = env.step(action)    \n",
        "      next_state = np.reshape(next_state, [1, state_size])\n",
        "      agent.remember(state, action, reward, next_state, done)\n",
        "      state = next_state    \n",
        "\n",
        "\n",
        "      if done:\n",
        "      #it arrives to the goal position\n",
        "        if s1==15:\n",
        "        #print('Win!',i)\n",
        "          reward_count += 10  \n",
        "        #falls in a hole  \n",
        "        else:\n",
        "          reward_count +=-5\n",
        "          break\n",
        "        #does an step but either of the last situations happen\n",
        "      else: \n",
        "        reward_count += -1\n",
        "       \n",
        "\n",
        "    rewards.append(reward_count)\n",
        "    steps.append(j)\n",
        "    if len(agent.memory) > batch_size:\n",
        "      agent.replay(batch_size)\n",
        "  \n",
        "  return rewards, steps"
      ],
      "execution_count": 0,
      "outputs": []
    },
    {
      "metadata": {
        "id": "KZZUBbo9xoKl",
        "colab_type": "code",
        "outputId": "6a2b21d0-f3e9-4a2b-8b67-e73d8f6588d7",
        "colab": {
          "base_uri": "https://localhost:8080/",
          "height": 1020
        }
      },
      "cell_type": "code",
      "source": [
        "# Parameters of the environment\n",
        "env = gym.make('FrozenLake-v0')\n",
        "runs = 10\n",
        "num_episodes = 500\n",
        "\n",
        "# Parameters for the agent\n",
        "state_size = 1 # size of the state vector\n",
        "action_size = env.action_space.n\n",
        "batch_size = 32\n",
        "\n",
        "# We will run the progam runs times to average over many played games\n",
        "rew_run = []\n",
        "step_run = []\n",
        "for runs in range(runs):\n",
        "  \n",
        "  agent = QNAgent(state_size, action_size)\n",
        "  \n",
        "  rewards, steps = Q_network(env, agent, num_episodes, batch_size)\n",
        "  \n",
        "  rew_run.append(rewards)\n",
        "  step_run.append(steps)"
      ],
      "execution_count": 0,
      "outputs": [
        {
          "output_type": "stream",
          "text": [
            "/usr/local/lib/python3.6/dist-packages/gym/envs/registration.py:14: PkgResourcesDeprecationWarning: Parameters to load are deprecated.  Call .resolve and .require separately.\n",
            "  result = entry_point.load(False)\n",
            "100%|██████████| 500/500 [00:29<00:00, 16.76it/s]\n",
            "100%|██████████| 500/500 [00:30<00:00, 16.48it/s]\n",
            "100%|██████████| 500/500 [00:31<00:00, 15.13it/s]\n",
            "100%|██████████| 500/500 [00:31<00:00, 14.98it/s]\n",
            "100%|██████████| 500/500 [00:32<00:00, 15.55it/s]\n",
            "100%|██████████| 500/500 [00:32<00:00, 15.27it/s]\n",
            "100%|██████████| 500/500 [00:33<00:00, 14.90it/s]\n",
            "100%|██████████| 500/500 [00:34<00:00, 13.89it/s]\n",
            "100%|██████████| 500/500 [00:35<00:00, 13.62it/s]\n",
            "100%|██████████| 500/500 [00:36<00:00, 13.84it/s]\n"
          ],
          "name": "stderr"
        }
      ]
    },
    {
      "metadata": {
        "id": "A7nX5K6jyk2q",
        "colab_type": "code",
        "outputId": "4deb50b5-0f62-4629-8ba5-ae004a5ae6c2",
        "colab": {
          "base_uri": "https://localhost:8080/",
          "height": 282
        }
      },
      "cell_type": "code",
      "source": [
        "plt.plot(rew_run[0])"
      ],
      "execution_count": 0,
      "outputs": [
        {
          "output_type": "execute_result",
          "data": {
            "text/plain": [
              "[<matplotlib.lines.Line2D at 0x7f6f0c98af60>]"
            ]
          },
          "metadata": {
            "tags": []
          },
          "execution_count": 17
        },
        {
          "output_type": "display_data",
          "data": {
            "image/png": "[encoded data removed]",
            "text/plain": [
              "<matplotlib.figure.Figure at 0x7f6f123c2908>"
            ]
          },
          "metadata": {
            "tags": []
          }
        }
      ]
    },
    {
      "metadata": {
        "id": "u6F-Ij1WMpSQ",
        "colab_type": "text"
      },
      "cell_type": "markdown",
      "source": [
        "Doing the same procedure for a Q-network, we obtain that the reward after 500 episodes instead of becoming less negative it becomes more negative. That would mean that the agent is not learning the optimal path as quickly as in the Q-table and after 500 episodes the optimal path hasn't been found. "
      ]
    },
    {
      "metadata": {
        "id": "T7Ad36hZNj-B",
        "colab_type": "text"
      },
      "cell_type": "markdown",
      "source": [
        "# Comparison of the two methods:"
      ]
    },
    {
      "metadata": {
        "id": "qSfDjpju1QWf",
        "colab_type": "text"
      },
      "cell_type": "markdown",
      "source": [
        "It seems that it works isn't it? However, let's compare it in the first 500 episodes with the Q-table:"
      ]
    },
    {
      "metadata": {
        "id": "BCNcAwmx1bZX",
        "colab_type": "code",
        "outputId": "2d202202-d825-40ad-d929-cad9bfd51fce",
        "colab": {
          "base_uri": "https://localhost:8080/",
          "height": 297
        }
      },
      "cell_type": "code",
      "source": [
        "f, axarr = plt.subplots(2, sharex=True)\n",
        "axarr[0].plot(rewards_t)\n",
        "axarr[0].set_title('Q-table')\n",
        "axarr[1].plot(rew_run[0][1:499])\n",
        "axarr[1].set_title('Q-network')\n"
      ],
      "execution_count": 0,
      "outputs": [
        {
          "output_type": "execute_result",
          "data": {
            "text/plain": [
              "Text(0.5,1,'Q-network')"
            ]
          },
          "metadata": {
            "tags": []
          },
          "execution_count": 18
        },
        {
          "output_type": "display_data",
          "data": {
            "image/png": "[encoded data removed]",
            "text/plain": [
              "<matplotlib.figure.Figure at 0x7f6f0c98a7b8>"
            ]
          },
          "metadata": {
            "tags": []
          }
        }
      ]
    },
    {
      "metadata": {
        "id": "VHWlcbGf8i5L",
        "colab_type": "text"
      },
      "cell_type": "markdown",
      "source": [
        "# **Results**\n",
        "\n",
        "As we have commented previously, the Q-network obtains a more negative reward after the same number of episodes. Which would mean that using both methods to solve the problem and find the optimal path, the Q-table has succefully reach the minimal path quicker than the Q-network. \n"
      ]
    }
  ]
}
