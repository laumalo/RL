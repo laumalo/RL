{
  "nbformat": 4,
  "nbformat_minor": 0,
  "metadata": {
    "colab": {
      "name": "RL_homework1.ipynb",
      "version": "0.3.2",
      "provenance": [],
      "collapsed_sections": []
    },
    "kernelspec": {
      "name": "python3",
      "display_name": "Python 3"
    }
  },
  "cells": [
    {
      "metadata": {
        "id": "5XgMfwnQX44G",
        "colab_type": "text"
      },
      "cell_type": "markdown",
      "source": [
        "# **BLOC 3: First assignment (Solving a 'Gaussian' 10-bandit problem)**\n",
        "\n",
        "*Carla Barceló Sàbat and Laura Malo Roset *\n",
        "\n",
        "The goal of this homework is to create a policy able to get the maximum reward playing a 10-armed bandit. Each of the ten arms reward R_i is selected following a normal distribution with mean zero and unit variance. Each time arm $i$ is pulled, the bandit outputs a reward selected according to a mean R_i unit variance normal distribution. Follow these steps:\n",
        "\n",
        "**a) **Create a policy based in the incremental implementation to solve the given 10-armed bandit. Train it over 1000 episodes. Plot the results\n",
        "\n",
        "**b)** Run the previous code 2000 runs, where at each round you reinitialize the environment and policy. Plot the average reward obtained as a function of the episode number.\n",
        "\n",
        "**c)** Apply now the e-greedy algorithm, for e = [0.1, 0.01]. Do the two previous steps for each value of e and compare the results obtained.\n",
        "\n",
        "The function creating the multi-armed bandit can be found in RL/MBA.py"
      ]
    },
    {
      "metadata": {
        "id": "cjCXm4xH9hd3",
        "colab_type": "text"
      },
      "cell_type": "markdown",
      "source": [
        "# Introduction\n",
        "\n",
        "The aim os this assigment is to create a code that solves a 'Gaussian' 10-dandit problem. \n",
        "A 10-bandit problem consists in a 10 armed bandit which the reward of the selected bandit at each step is determined by a gaussian distribution. \n",
        "\n",
        "The code is structured as it follows, the first part corresponds to the definition of the class MAB which will be our agent and will include all definitions we will need (i.e., the actions). And the second part of the code, or main code, will be the declaration of variables and the loops that will compute the different runs of the code and finally will plot the results obtained. \n",
        "\n",
        "\n",
        "\n",
        "\n",
        "\n",
        "\n"
      ]
    },
    {
      "metadata": {
        "id": "OYpDKHdY3G5Y",
        "colab_type": "text"
      },
      "cell_type": "markdown",
      "source": [
        "**1. Agent definition:**"
      ]
    },
    {
      "metadata": {
        "id": "nQLXhw-FX5Ki",
        "colab_type": "code",
        "colab": {}
      },
      "cell_type": "code",
      "source": [
        "import numpy as np\n",
        "import matplotlib.pyplot as plt\n",
        "import pandas as pd\n",
        "%matplotlib inline\n",
        "\n",
        "class MAB:\n",
        "  ''' Creates a multiarmed bandit where each bandit outputs a reward coming \n",
        "  from a Gaussian distribution. '''\n",
        "  \n",
        "  def __init__(self, num_b, eps, episode):\n",
        "    #inizialize all the variables the agent will work with\n",
        "    self.N = num_b # Number of bandits\n",
        "    self.prob_b = np.random.normal(0, 1, self.N) #Reward probability of each bandit\n",
        "                                                 #Follows a normal distribution\n",
        "    self.eps = eps #epsilon for the e-greedy algorithm \n",
        "    self.episode = episode  # Number of episodes\n",
        "    self.n = 0  #step count \n",
        "    self.n_b = np.zeros(num_b) # Step count for each bandit, it's a vector(0-9 bandits)\n",
        "    self.mean_reward = 0  # Total mean reward\n",
        "    self.reward = np.zeros(episode)  # Mean reward for each episode\n",
        "    self.N_reward = np.zeros(num_b) # Reward for each bandit (usefull for the e-greedy algorithm)\n",
        "\n",
        "          \n",
        "  def get_reward(self, action):\n",
        "    # Given action, outputs a reward based on the probability of success of bandit\n",
        "    if action > self.N-1:\n",
        "      print('Bandit number'+str(action)+' does not exists!')\n",
        "      return 0\n",
        "    else: \n",
        "      reward = np.random.normal(self.prob_b[action],1)\n",
        "      return reward\n",
        "  \n",
        "  def pull_bandit(self):\n",
        "    #e-GREEDY ALGORITHM\n",
        "    #Choose a certain probability\n",
        "    p=np.random.rand()\n",
        "    #considering the case of greedy and the first step, we randomly choose an action \n",
        "    if self.eps ==0 and self.n == 0: \n",
        "      action = np.random.choice(self.N)\n",
        "    #if the probability chosen is lower than the eps (for eps=0.1 or 0.01) we choose a random action\n",
        "    elif p< self.eps: \n",
        "      action = np.random.choice(self.N)\n",
        "    #in the other cases, we choose the action with the maximum reward\n",
        "    else: \n",
        "      action = np.argmax(self.N_reward) \n",
        "    \n",
        "    #we get the reward for the action\n",
        "    reward= self.get_reward(action)\n",
        "    \n",
        "    # Update counters\n",
        "    self.n += 1\n",
        "    self.n_b[action] += 1\n",
        "        \n",
        "    # Update total mean value of the reward (Qa)\n",
        "    self.mean_reward = self.mean_reward + (\n",
        "        reward - self.mean_reward) / self.n\n",
        "        \n",
        "    # Update reward for the given action (Qa(action))\n",
        "    self.N_reward[action] = self.N_reward[action] + (\n",
        "        reward - self.N_reward[action]) / self.n_b[action]\n",
        "\n",
        "  def run(self):\n",
        "  #we pull the bandits a certain number of episodes \n",
        "     for i in range(self.episode):\n",
        "        self.pull_bandit()\n",
        "        self.reward[i] = self.mean_reward\n",
        "\n"
      ],
      "execution_count": 0,
      "outputs": []
    },
    {
      "metadata": {
        "id": "5J9Q5GPWjSGt",
        "colab_type": "text"
      },
      "cell_type": "markdown",
      "source": [
        "** 2. Main code **"
      ]
    },
    {
      "metadata": {
        "id": "ky7lBNZ7fs0E",
        "colab_type": "code",
        "outputId": "c35bb48f-0a4c-443a-ddae-3cbea1f8f629",
        "colab": {
          "base_uri": "https://localhost:8080/",
          "height": 515
        }
      },
      "cell_type": "code",
      "source": [
        "# To create the environment use:\n",
        "number_bandits = 10\n",
        "episodes = 1000\n",
        "\n",
        "#We inicialize variables to compute the avarage in a total number of runs\n",
        "MAB_0_rewards = np.zeros(episodes)\n",
        "MAB_01_rewards = np.zeros(episodes)\n",
        "MAB_001_rewards = np.zeros(episodes)\n",
        "\n",
        "\n",
        "runs = 1000\n",
        "# Run 'runs' time the code\n",
        "for i in range(runs):    \n",
        "    # Initialize three bandit problems for eps=0,0.1 and 0.001 \n",
        "    #As we create the enviroment inside, each run will reset the variables\n",
        "    MAB_0 = MAB(number_bandits, 0, episodes)\n",
        "    MAB_01 = MAB(number_bandits, 0.1, episodes)\n",
        "    MAB_001 = MAB(number_bandits, 0.01, episodes)\n",
        "    \n",
        "    # Run each epsilon problem\n",
        "    MAB_0.run()\n",
        "    MAB_01.run()\n",
        "    MAB_001.run()\n",
        "    \n",
        "    # Averages for the runs\n",
        "    MAB_0_rewards = MAB_0_rewards + (MAB_0.reward - MAB_0_rewards) / (i + 1)\n",
        "    MAB_01_rewards = MAB_01_rewards + (MAB_01.reward - MAB_01_rewards) / (i + 1)\n",
        "    MAB_001_rewards = MAB_001_rewards + (MAB_001.reward - MAB_001_rewards) / (i + 1)\n",
        "    \n",
        "\n",
        "#Plot the results\n",
        "plt.figure(figsize=(12,8))\n",
        "plt.plot(MAB_0_rewards, label=\"$\\epsilon=0$ \")\n",
        "plt.plot(MAB_001_rewards, label=\"$\\epsilon=0.01$\")\n",
        "plt.plot(MAB_01_rewards, label=\"$\\epsilon=0.1$\")\n",
        "plt.legend(bbox_to_anchor=(1.2,0.5))\n",
        "plt.xlabel(\"Episodes\")\n",
        "plt.ylabel(\"Average Reward\")\n",
        "plt.title(\"Average Rewards using $\\epsilon-greedy$ after \" + str(runs) + \" Runs\")\n",
        "plt.show()"
      ],
      "execution_count": 0,
      "outputs": [
        {
          "output_type": "display_data",
          "data": {
            "image/png": "[encoded data removed]",
            "text/plain": [
              "<matplotlib.figure.Figure at 0x7f286f815048>"
            ]
          },
          "metadata": {
            "tags": []
          }
        }
      ]
    },
    {
      "metadata": {
        "id": "r9cpzWig95Wx",
        "colab_type": "text"
      },
      "cell_type": "markdown",
      "source": [
        "# **Results**\n",
        "\n",
        "As we can see in graph shown, during the first episodes the Average Reward is very low but quickly increases and after a reasanable number of episodes (as could be for example, 600 episodes) the reward starts to become constant which mean that the bandit has learn which are the correct moves to obtain the maximum reward. \n",
        "\n",
        "The $\\epsilon$-greedy method consistis in combining exporation and reward, which means that if $\\epsilon$ =0 the only goal of our agent will be to get the maximum reward but if it's a value different to zero we will include for our agent that tries to explore all the possible combinations and not only stick to the most rewarded that has already been explored. \n",
        "\n",
        "If we look at the results, we can see how if we explore all the possibilities, after a certain number of episodes the Average Reward will be better. In particular, it turns out that the best results are obtained for $\\epsilon=0.1$.\n"
      ]
    }
  ]
}
